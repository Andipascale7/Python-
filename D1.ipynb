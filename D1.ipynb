{
  "nbformat": 4,
  "nbformat_minor": 0,
  "metadata": {
    "colab": {
      "provenance": [],
      "mount_file_id": "https://github.com/Andipascale7/Python-/blob/Intro/D1.ipynb",
      "authorship_tag": "ABX9TyN5yts34GAslS0PpF7Wju+S",
      "include_colab_link": true
    },
    "kernelspec": {
      "name": "python3",
      "display_name": "Python 3"
    },
    "language_info": {
      "name": "python"
    }
  },
  "cells": [
    {
      "cell_type": "markdown",
      "metadata": {
        "id": "view-in-github",
        "colab_type": "text"
      },
      "source": [
        "<a href=\"https://colab.research.google.com/github/Andipascale7/Python-/blob/Intro/D1.ipynb\" target=\"_parent\"><img src=\"https://colab.research.google.com/assets/colab-badge.svg\" alt=\"Open In Colab\"/></a>"
      ]
    },
    {
      "cell_type": "code",
      "execution_count": null,
      "metadata": {
        "id": "TEWP1k0oeeJ1",
        "colab": {
          "base_uri": "https://localhost:8080/"
        },
        "outputId": "2804ed6b-e704-4e8f-cd19-a4850a05db6d"
      },
      "outputs": [
        {
          "output_type": "stream",
          "name": "stdout",
          "text": [
            "Dipo Adeniyi\n"
          ]
        }
      ],
      "source": [
        "name = 'Dipo Adiyi'\n",
        "\n",
        "print(name)\n",
        "\n",
        "\n",
        "\n"
      ]
    },
    {
      "cell_type": "markdown",
      "source": [],
      "metadata": {
        "id": "iELXwZjyxCkT"
      }
    },
    {
      "cell_type": "markdown",
      "source": [],
      "metadata": {
        "id": "MJ5lFVBdxBGz"
      }
    },
    {
      "cell_type": "code",
      "source": [
        "print ('My Name is Dipo, welcome to BDA')"
      ],
      "metadata": {
        "colab": {
          "base_uri": "https://localhost:8080/"
        },
        "id": "V6v7ahpEwuhl",
        "outputId": "97e5f145-5b66-43bc-de81-eced342979ae"
      },
      "execution_count": null,
      "outputs": [
        {
          "output_type": "stream",
          "name": "stdout",
          "text": [
            "My Name is Dipo, welcome to BDA\n"
          ]
        }
      ]
    },
    {
      "cell_type": "code",
      "source": [
        "your_name = input('Please enter your name')\n",
        "\n"
      ],
      "metadata": {
        "colab": {
          "base_uri": "https://localhost:8080/"
        },
        "id": "Ew4lMkuyyEa6",
        "outputId": "eba22041-c9ba-4e4a-bff8-f893ed1ebe43"
      },
      "execution_count": null,
      "outputs": [
        {
          "name": "stdout",
          "output_type": "stream",
          "text": [
            "Please enter your nameAndi\n"
          ]
        }
      ]
    },
    {
      "cell_type": "code",
      "source": [
        "Country = input('Where is your Country?   ')"
      ],
      "metadata": {
        "colab": {
          "base_uri": "https://localhost:8080/"
        },
        "id": "11o8K7vLzHwN",
        "outputId": "5667a1fa-973e-4a25-d98b-601134c4bb2c"
      },
      "execution_count": null,
      "outputs": [
        {
          "name": "stdout",
          "output_type": "stream",
          "text": [
            "Where is your Country?   \n"
          ]
        }
      ]
    },
    {
      "cell_type": "code",
      "source": [
        "name_country = your_name + ' ' + Country\n",
        "print(name_country)\n"
      ],
      "metadata": {
        "colab": {
          "base_uri": "https://localhost:8080/"
        },
        "id": "8h4cod9iziHj",
        "outputId": "1fc45058-a6a4-42c2-c934-52cc0965d113"
      },
      "execution_count": null,
      "outputs": [
        {
          "output_type": "stream",
          "name": "stdout",
          "text": [
            "Andi \n"
          ]
        }
      ]
    },
    {
      "cell_type": "code",
      "source": [
        "print (name_country)"
      ],
      "metadata": {
        "colab": {
          "base_uri": "https://localhost:8080/"
        },
        "id": "VOEjV6TE0AHw",
        "outputId": "02ae5254-6bdd-4f77-9f6f-2a25ec76d9a5"
      },
      "execution_count": null,
      "outputs": [
        {
          "output_type": "stream",
          "name": "stdout",
          "text": [
            "Andi \n"
          ]
        }
      ]
    },
    {
      "cell_type": "code",
      "source": [
        "print (78+90)"
      ],
      "metadata": {
        "colab": {
          "base_uri": "https://localhost:8080/"
        },
        "id": "lmab9Isoz0uL",
        "outputId": "b3fc752a-bd62-45be-cc3d-d483c90cb43c"
      },
      "execution_count": null,
      "outputs": [
        {
          "output_type": "stream",
          "name": "stdout",
          "text": [
            "168\n"
          ]
        }
      ]
    },
    {
      "cell_type": "markdown",
      "source": [],
      "metadata": {
        "id": "Wrvc7iwlzz0U"
      }
    },
    {
      "cell_type": "code",
      "source": [
        "age = input ('Please enter your age ')"
      ],
      "metadata": {
        "colab": {
          "base_uri": "https://localhost:8080/"
        },
        "id": "YV2PAmy90hK0",
        "outputId": "fa2e92db-44cf-4749-b1a0-05efb88c70b0"
      },
      "execution_count": null,
      "outputs": [
        {
          "name": "stdout",
          "output_type": "stream",
          "text": [
            "Please enter your age 25\n"
          ]
        }
      ]
    },
    {
      "cell_type": "code",
      "source": [
        "print(34 + age)"
      ],
      "metadata": {
        "colab": {
          "base_uri": "https://localhost:8080/",
          "height": 141
        },
        "id": "-Y72lUWQ1dDp",
        "outputId": "c64ae3ba-99ee-44d4-c4fa-e6f6bc2ea257"
      },
      "execution_count": null,
      "outputs": [
        {
          "output_type": "error",
          "ename": "TypeError",
          "evalue": "unsupported operand type(s) for +: 'int' and 'str'",
          "traceback": [
            "\u001b[0;31m---------------------------------------------------------------------------\u001b[0m",
            "\u001b[0;31mTypeError\u001b[0m                                 Traceback (most recent call last)",
            "\u001b[0;32m/tmp/ipython-input-1128974555.py\u001b[0m in \u001b[0;36m<cell line: 0>\u001b[0;34m()\u001b[0m\n\u001b[0;32m----> 1\u001b[0;31m \u001b[0mprint\u001b[0m\u001b[0;34m(\u001b[0m\u001b[0;36m34\u001b[0m \u001b[0;34m+\u001b[0m \u001b[0mage\u001b[0m\u001b[0;34m)\u001b[0m\u001b[0;34m\u001b[0m\u001b[0;34m\u001b[0m\u001b[0m\n\u001b[0m",
            "\u001b[0;31mTypeError\u001b[0m: unsupported operand type(s) for +: 'int' and 'str'"
          ]
        }
      ]
    },
    {
      "cell_type": "code",
      "source": [
        "age = int(input('Please enter your age '))"
      ],
      "metadata": {
        "colab": {
          "base_uri": "https://localhost:8080/"
        },
        "id": "sR8B5EM61SBP",
        "outputId": "cc8f1d45-c8b1-41e3-c51a-e9b1f8fae222"
      },
      "execution_count": null,
      "outputs": [
        {
          "name": "stdout",
          "output_type": "stream",
          "text": [
            "Please enter your age 21\n"
          ]
        }
      ]
    },
    {
      "cell_type": "code",
      "source": [
        "new_age= input('How old are you?')\n",
        "year_study= input('How long have you been studying')"
      ],
      "metadata": {
        "colab": {
          "base_uri": "https://localhost:8080/"
        },
        "id": "5r5E4B_Q1p3m",
        "outputId": "03e6b68b-43c9-42a1-c0e9-495e2aec64fd"
      },
      "execution_count": null,
      "outputs": [
        {
          "name": "stdout",
          "output_type": "stream",
          "text": [
            "How old are you?25\n",
            "How long have you been studying4\n"
          ]
        }
      ]
    },
    {
      "cell_type": "code",
      "source": [
        "print(name, age)"
      ],
      "metadata": {
        "colab": {
          "base_uri": "https://localhost:8080/"
        },
        "id": "JEwgiFZC44K5",
        "outputId": "bcc05f15-6459-4dd8-ee8a-13a0fec584fa"
      },
      "execution_count": null,
      "outputs": [
        {
          "output_type": "stream",
          "name": "stdout",
          "text": [
            "Dipo Adeniyi 21\n"
          ]
        }
      ]
    },
    {
      "cell_type": "code",
      "source": [
        "print(f'My name is {name} I am a BDA tutor at Imeta Training and I am {age} year old')"
      ],
      "metadata": {
        "id": "ppas7DSF7Xor",
        "outputId": "8ecfb8c4-7752-4bf6-b4d8-4114bd803223",
        "colab": {
          "base_uri": "https://localhost:8080/"
        }
      },
      "execution_count": null,
      "outputs": [
        {
          "output_type": "stream",
          "name": "stdout",
          "text": [
            "My name is Dipo Adeniyi I am a BDA tutor at Imeta Training and I am 21 year old\n"
          ]
        }
      ]
    },
    {
      "cell_type": "code",
      "source": [
        "num = len('Welcome to Ibiza')\n",
        "print(num)"
      ],
      "metadata": {
        "id": "S2gppsR_70BN",
        "outputId": "e6d08140-f93b-47ea-c8e9-3985515eadbf",
        "colab": {
          "base_uri": "https://localhost:8080/"
        }
      },
      "execution_count": null,
      "outputs": [
        {
          "output_type": "stream",
          "name": "stdout",
          "text": [
            "16\n"
          ]
        }
      ]
    },
    {
      "cell_type": "code",
      "source": [
        "result = 5+73\n",
        "print(result)"
      ],
      "metadata": {
        "id": "xmTTuDRk9MaA",
        "outputId": "55f73934-6389-45fd-f52b-969f1ec72d08",
        "colab": {
          "base_uri": "https://localhost:8080/"
        }
      },
      "execution_count": null,
      "outputs": [
        {
          "output_type": "stream",
          "name": "stdout",
          "text": [
            "78\n"
          ]
        }
      ]
    },
    {
      "cell_type": "code",
      "source": [
        "print(17/3)"
      ],
      "metadata": {
        "id": "gAA2RHxp9tKE",
        "outputId": "eda95a45-fbf8-4131-e831-fb4727813309",
        "colab": {
          "base_uri": "https://localhost:8080/"
        }
      },
      "execution_count": null,
      "outputs": [
        {
          "output_type": "stream",
          "name": "stdout",
          "text": [
            "5.666666666666667\n"
          ]
        }
      ]
    },
    {
      "cell_type": "code",
      "source": [
        "print(17//3)\n"
      ],
      "metadata": {
        "id": "nJbLXMRF92Cq",
        "outputId": "68dd0a76-9146-4dd4-ab24-6e744f366e5e",
        "colab": {
          "base_uri": "https://localhost:8080/"
        }
      },
      "execution_count": null,
      "outputs": [
        {
          "output_type": "stream",
          "name": "stdout",
          "text": [
            "5\n"
          ]
        }
      ]
    },
    {
      "cell_type": "code",
      "source": [
        "#modulus operations\n",
        "print(17%3)"
      ],
      "metadata": {
        "id": "D2NRMhOP-Wn4",
        "outputId": "51235a88-4dfc-4386-90e8-a63c296ebec7",
        "colab": {
          "base_uri": "https://localhost:8080/"
        }
      },
      "execution_count": null,
      "outputs": [
        {
          "output_type": "stream",
          "name": "stdout",
          "text": [
            "2\n"
          ]
        }
      ]
    },
    {
      "cell_type": "markdown",
      "source": [],
      "metadata": {
        "id": "D-Jixy-V-mY1"
      }
    },
    {
      "cell_type": "code",
      "source": [
        "#exponantion\n",
        "print(2 ** 4)"
      ],
      "metadata": {
        "id": "HeC9g-CB-eiq",
        "outputId": "23bbda57-0f3e-47c1-9327-209b559c12e3",
        "colab": {
          "base_uri": "https://localhost:8080/"
        }
      },
      "execution_count": null,
      "outputs": [
        {
          "output_type": "stream",
          "name": "stdout",
          "text": [
            "16\n"
          ]
        }
      ]
    },
    {
      "cell_type": "code",
      "source": [
        "#absolute value\n",
        "print(abs(4-9))"
      ],
      "metadata": {
        "id": "S3uMDvuF-yla",
        "outputId": "2ab020b8-d464-42aa-fc58-c16403e21d99",
        "colab": {
          "base_uri": "https://localhost:8080/"
        }
      },
      "execution_count": null,
      "outputs": [
        {
          "output_type": "stream",
          "name": "stdout",
          "text": [
            "5\n"
          ]
        }
      ]
    },
    {
      "cell_type": "code",
      "source": [
        "print(round(3.7))"
      ],
      "metadata": {
        "id": "3zbLGDAY_Ps0",
        "outputId": "1c81a1bb-2c7e-4053-c18a-568f0197621b",
        "colab": {
          "base_uri": "https://localhost:8080/"
        }
      },
      "execution_count": null,
      "outputs": [
        {
          "output_type": "stream",
          "name": "stdout",
          "text": [
            "4\n"
          ]
        }
      ]
    },
    {
      "cell_type": "markdown",
      "source": [
        "End of Day 1\n",
        "\n",
        "**Start of Day 2**\n"
      ],
      "metadata": {
        "id": "x6tuVXE2p3JO"
      }
    },
    {
      "cell_type": "code",
      "source": [
        "age=67\n",
        "\n"
      ],
      "metadata": {
        "id": "hBOb5FjnqD_T"
      },
      "execution_count": null,
      "outputs": []
    },
    {
      "cell_type": "code",
      "source": [
        "print (Age) #case sensitive"
      ],
      "metadata": {
        "colab": {
          "base_uri": "https://localhost:8080/",
          "height": 141
        },
        "id": "r2inrdC2qaCr",
        "outputId": "e228cb95-ef40-451b-d305-8769af4c726f"
      },
      "execution_count": null,
      "outputs": [
        {
          "output_type": "error",
          "ename": "NameError",
          "evalue": "name 'Age' is not defined",
          "traceback": [
            "\u001b[0;31m---------------------------------------------------------------------------\u001b[0m",
            "\u001b[0;31mNameError\u001b[0m                                 Traceback (most recent call last)",
            "\u001b[0;32m/tmp/ipython-input-3799181798.py\u001b[0m in \u001b[0;36m<cell line: 0>\u001b[0;34m()\u001b[0m\n\u001b[0;32m----> 1\u001b[0;31m \u001b[0mprint\u001b[0m \u001b[0;34m(\u001b[0m\u001b[0mAge\u001b[0m\u001b[0;34m)\u001b[0m\u001b[0;34m\u001b[0m\u001b[0;34m\u001b[0m\u001b[0m\n\u001b[0m",
            "\u001b[0;31mNameError\u001b[0m: name 'Age' is not defined"
          ]
        }
      ]
    },
    {
      "cell_type": "code",
      "source": [
        "print('Age')"
      ],
      "metadata": {
        "colab": {
          "base_uri": "https://localhost:8080/"
        },
        "id": "aX1H4m6LqpPp",
        "outputId": "2204524c-c392-4273-98b1-26c01b577bd8"
      },
      "execution_count": null,
      "outputs": [
        {
          "output_type": "stream",
          "name": "stdout",
          "text": [
            "Age\n"
          ]
        }
      ]
    },
    {
      "cell_type": "code",
      "source": [
        "print (age)"
      ],
      "metadata": {
        "colab": {
          "base_uri": "https://localhost:8080/"
        },
        "id": "cAYyfuoOqwX7",
        "outputId": "61679665-ebcf-4cc6-acad-b2d9ab1fc328"
      },
      "execution_count": null,
      "outputs": [
        {
          "output_type": "stream",
          "name": "stdout",
          "text": [
            "67\n"
          ]
        }
      ]
    },
    {
      "cell_type": "code",
      "source": [
        "s= 'Hello World!'\n"
      ],
      "metadata": {
        "id": "r7BcPEi0q1TE"
      },
      "execution_count": null,
      "outputs": []
    },
    {
      "cell_type": "code",
      "source": [
        "print(s[0])"
      ],
      "metadata": {
        "colab": {
          "base_uri": "https://localhost:8080/"
        },
        "id": "OF4Bnf2xstFn",
        "outputId": "6fb08aec-eb16-41b6-a4b6-450500b1dae4"
      },
      "execution_count": null,
      "outputs": [
        {
          "output_type": "stream",
          "name": "stdout",
          "text": [
            "H\n"
          ]
        }
      ]
    },
    {
      "cell_type": "code",
      "source": [
        "s[1:5]"
      ],
      "metadata": {
        "colab": {
          "base_uri": "https://localhost:8080/",
          "height": 35
        },
        "id": "3zlSr-i6tWUu",
        "outputId": "4f490ef9-0379-4407-b466-4f3c0aa2b63d"
      },
      "execution_count": null,
      "outputs": [
        {
          "output_type": "execute_result",
          "data": {
            "text/plain": [
              "'ello'"
            ],
            "application/vnd.google.colaboratory.intrinsic+json": {
              "type": "string"
            }
          },
          "metadata": {},
          "execution_count": 11
        }
      ]
    },
    {
      "cell_type": "code",
      "source": [
        "#NEGATIVE INDEXING\n",
        "print(s[-1])"
      ],
      "metadata": {
        "colab": {
          "base_uri": "https://localhost:8080/"
        },
        "id": "dw4gZX6stFFy",
        "outputId": "76d579ae-cd2b-4840-9e05-39a152ea962d"
      },
      "execution_count": null,
      "outputs": [
        {
          "output_type": "stream",
          "name": "stdout",
          "text": [
            "d\n"
          ]
        }
      ]
    },
    {
      "cell_type": "code",
      "source": [
        "# slicing\n",
        "print(s[-5:-2])"
      ],
      "metadata": {
        "colab": {
          "base_uri": "https://localhost:8080/"
        },
        "id": "QAwLyfkXvMcL",
        "outputId": "49d418d8-a521-4611-bb19-ec5503d2e313"
      },
      "execution_count": null,
      "outputs": [
        {
          "output_type": "stream",
          "name": "stdout",
          "text": [
            "Wor\n"
          ]
        }
      ]
    },
    {
      "cell_type": "code",
      "source": [
        "print(s[::-1])"
      ],
      "metadata": {
        "colab": {
          "base_uri": "https://localhost:8080/"
        },
        "id": "S7xC4RWaw6y5",
        "outputId": "66cfd515-e4f4-43b0-ae17-56b0be474748"
      },
      "execution_count": null,
      "outputs": [
        {
          "output_type": "stream",
          "name": "stdout",
          "text": [
            "dlroW olleH\n"
          ]
        }
      ]
    },
    {
      "cell_type": "code",
      "source": [
        "print(s[:])"
      ],
      "metadata": {
        "colab": {
          "base_uri": "https://localhost:8080/"
        },
        "id": "zVadUV4FxGKl",
        "outputId": "d4264396-987e-4dea-e457-1d2cc6677b6e"
      },
      "execution_count": null,
      "outputs": [
        {
          "output_type": "stream",
          "name": "stdout",
          "text": [
            "Hello World\n"
          ]
        }
      ]
    },
    {
      "cell_type": "code",
      "source": [
        "print(s[::])"
      ],
      "metadata": {
        "colab": {
          "base_uri": "https://localhost:8080/"
        },
        "id": "6u1D1g1LxMrP",
        "outputId": "ece25ae7-85c2-4530-c0ab-58ffcf429957"
      },
      "execution_count": null,
      "outputs": [
        {
          "output_type": "stream",
          "name": "stdout",
          "text": [
            "Hello World!\n"
          ]
        }
      ]
    },
    {
      "cell_type": "code",
      "source": [
        "print(s[::1])"
      ],
      "metadata": {
        "colab": {
          "base_uri": "https://localhost:8080/"
        },
        "id": "pcASW-KMxaE8",
        "outputId": "48691fcf-52fb-425f-d32e-33b0580b60e8"
      },
      "execution_count": null,
      "outputs": [
        {
          "output_type": "stream",
          "name": "stdout",
          "text": [
            "Hello World!\n"
          ]
        }
      ]
    },
    {
      "cell_type": "code",
      "source": [
        "print(s[::2])"
      ],
      "metadata": {
        "colab": {
          "base_uri": "https://localhost:8080/"
        },
        "id": "3C73ZW4Cxorh",
        "outputId": "f7d87c73-09fe-4165-edaf-238c1715a439"
      },
      "execution_count": null,
      "outputs": [
        {
          "output_type": "stream",
          "name": "stdout",
          "text": [
            "HloWrd\n"
          ]
        }
      ]
    },
    {
      "cell_type": "code",
      "source": [
        "print(s[::3])"
      ],
      "metadata": {
        "colab": {
          "base_uri": "https://localhost:8080/"
        },
        "id": "ZD_RsMaDyWAi",
        "outputId": "290c7147-8353-45bb-a99c-197b044d36aa"
      },
      "execution_count": null,
      "outputs": [
        {
          "output_type": "stream",
          "name": "stdout",
          "text": [
            "HlWl\n"
          ]
        }
      ]
    },
    {
      "cell_type": "code",
      "source": [
        "import random as rn\n",
        "num1 = [1,2,3,4,5,6,7,8,9,10]\n",
        "num2 = [11,12,13,4,5,6,7,8,9,10]\n"
      ],
      "metadata": {
        "id": "l4gWt8Uh5cnG"
      },
      "execution_count": null,
      "outputs": []
    },
    {
      "cell_type": "code",
      "source": [
        "print(rn.randint(1,10))"
      ],
      "metadata": {
        "colab": {
          "base_uri": "https://localhost:8080/"
        },
        "id": "4ytpPwKX7UJB",
        "outputId": "2c4853c9-ae57-420b-e9e8-68ea922e1771"
      },
      "execution_count": null,
      "outputs": [
        {
          "output_type": "stream",
          "name": "stdout",
          "text": [
            "10\n"
          ]
        }
      ]
    },
    {
      "cell_type": "code",
      "source": [
        "#multiply 2 numbers\n",
        "import random as rn\n",
        "num1 = rn.randint(0, 10)\n",
        "num2 = rn.randint(5, 10)\n",
        "print(num1, num2)\n",
        "ques = int(input(f'What is {num1} x {num2}'))\n",
        "#check user answer against the correct answer\n",
        "if ques == num1*num2:\n",
        "  print('Correct')\n",
        "else:\n",
        "  print('Incorrect')\n",
        "\n"
      ],
      "metadata": {
        "colab": {
          "base_uri": "https://localhost:8080/"
        },
        "id": "wTnH61TS70IV",
        "outputId": "f2b17ab2-732b-4e02-ed71-cdd2e665c959"
      },
      "execution_count": null,
      "outputs": [
        {
          "output_type": "stream",
          "name": "stdout",
          "text": [
            "9 7\n"
          ]
        }
      ]
    },
    {
      "cell_type": "code",
      "source": [
        "#substraction\n",
        "import random as rn\n",
        "num2 = rn.randint(0, 10)\n",
        "num3 = rn.randint(5, 10)\n",
        "print(num2, num3)\n",
        "ques1 = int(input(f'What is {num2} - {num3}'))\n",
        "#check user answer against the correct answer\n",
        "if ques1 == num2-num3:\n",
        "  print('Correct')\n",
        "else:\n",
        "  print('Incorrect')"
      ],
      "metadata": {
        "colab": {
          "base_uri": "https://localhost:8080/"
        },
        "id": "rBcnXh9zEDhl",
        "outputId": "90f4f432-b1cc-4e90-ab75-5419747e871c"
      },
      "execution_count": null,
      "outputs": [
        {
          "output_type": "stream",
          "name": "stdout",
          "text": [
            "0 5\n",
            "What is 0 - 5  -5\n",
            "Correct\n"
          ]
        }
      ]
    },
    {
      "cell_type": "code",
      "source": [
        "proname = 'laptop'\n",
        "proname.capitalize()"
      ],
      "metadata": {
        "colab": {
          "base_uri": "https://localhost:8080/",
          "height": 35
        },
        "id": "chRnY8_zLLWC",
        "outputId": "af9931af-6243-41b8-e468-138fb9f4f074"
      },
      "execution_count": null,
      "outputs": [
        {
          "output_type": "execute_result",
          "data": {
            "text/plain": [
              "'Laptop'"
            ],
            "application/vnd.google.colaboratory.intrinsic+json": {
              "type": "string"
            }
          },
          "metadata": {},
          "execution_count": 41
        }
      ]
    },
    {
      "cell_type": "code",
      "source": [
        "#Scenario:​You want to compare two strings without considering case sensitivity: \"Hello\" and \"hello\"\n",
        "str1 ='Hello'\n",
        "str2 = 'hello'\n",
        "str1.casefold() == str2.casefold()"
      ],
      "metadata": {
        "colab": {
          "base_uri": "https://localhost:8080/"
        },
        "id": "ChGw4iadMCjN",
        "outputId": "9b481e8a-a973-4697-d740-fa481138cce8"
      },
      "execution_count": null,
      "outputs": [
        {
          "output_type": "execute_result",
          "data": {
            "text/plain": [
              "True"
            ]
          },
          "metadata": {},
          "execution_count": 42
        }
      ]
    },
    {
      "cell_type": "code",
      "source": [],
      "metadata": {
        "id": "GtPRj1jf2d6L"
      },
      "execution_count": null,
      "outputs": []
    },
    {
      "cell_type": "markdown",
      "source": [
        "Day 3 Python\n",
        "\n"
      ],
      "metadata": {
        "id": "45eQ7Ii42bGL"
      }
    },
    {
      "cell_type": "code",
      "source": [
        "string_list =['apple','banana','cherry']\n",
        "num_list =[24,-45,0,24]"
      ],
      "metadata": {
        "id": "V4mgtXSv2e6k"
      },
      "execution_count": null,
      "outputs": []
    },
    {
      "cell_type": "code",
      "source": [
        "len(string_list)"
      ],
      "metadata": {
        "colab": {
          "base_uri": "https://localhost:8080/"
        },
        "id": "7OWtTvmi31wk",
        "outputId": "fbacffe2-4991-4ab4-d2f6-6aeb183608d4"
      },
      "execution_count": null,
      "outputs": [
        {
          "output_type": "execute_result",
          "data": {
            "text/plain": [
              "3"
            ]
          },
          "metadata": {},
          "execution_count": 9
        }
      ]
    },
    {
      "cell_type": "code",
      "source": [
        "st_num=len(string_list)"
      ],
      "metadata": {
        "id": "2-rty4BC3-j_"
      },
      "execution_count": null,
      "outputs": []
    },
    {
      "cell_type": "code",
      "source": [
        "string_list.append('orange')"
      ],
      "metadata": {
        "id": "zDw7pXjd5IQq"
      },
      "execution_count": null,
      "outputs": []
    },
    {
      "cell_type": "code",
      "source": [
        "print(string_list)"
      ],
      "metadata": {
        "colab": {
          "base_uri": "https://localhost:8080/"
        },
        "id": "L8CUd1pS5QS1",
        "outputId": "79a97f6b-532b-4409-fde1-cd1975217970"
      },
      "execution_count": null,
      "outputs": [
        {
          "output_type": "stream",
          "name": "stdout",
          "text": [
            "['apple', 'banana', 'cherry', 'orange']\n"
          ]
        }
      ]
    },
    {
      "cell_type": "code",
      "source": [
        "string_list.insert(0,'Pinapple')"
      ],
      "metadata": {
        "id": "pfZzirzY6WhD"
      },
      "execution_count": null,
      "outputs": []
    },
    {
      "cell_type": "code",
      "source": [
        "print(string_list)"
      ],
      "metadata": {
        "colab": {
          "base_uri": "https://localhost:8080/"
        },
        "id": "_Y3JZgnL6sLX",
        "outputId": "090e3fea-ceb3-4643-df9c-1a7751e40fac"
      },
      "execution_count": null,
      "outputs": [
        {
          "output_type": "stream",
          "name": "stdout",
          "text": [
            "['Pinapple', 'apple', 'banana', 'cherry', 'orange']\n"
          ]
        }
      ]
    },
    {
      "cell_type": "code",
      "source": [
        "if 'banana' in string_list:\n",
        "  print('Yes, it is present')\n",
        "  print('The banana is yellow')\n",
        "else:\n",
        "  print('No, it is not present')"
      ],
      "metadata": {
        "colab": {
          "base_uri": "https://localhost:8080/"
        },
        "id": "1zDwDm0P61x6",
        "outputId": "939bbd5e-8190-4c10-e0ec-8fcd4a0ef64c"
      },
      "execution_count": null,
      "outputs": [
        {
          "output_type": "stream",
          "name": "stdout",
          "text": [
            "Yes, it is present\n",
            "The banana is yellow\n"
          ]
        }
      ]
    },
    {
      "cell_type": "code",
      "source": [
        "string_list.extend(num_list)\n",
        "print(string_list)"
      ],
      "metadata": {
        "colab": {
          "base_uri": "https://localhost:8080/"
        },
        "id": "CTDd1tAG61oC",
        "outputId": "17747e3d-63a1-423b-85a7-d1f60a5c465f"
      },
      "execution_count": null,
      "outputs": [
        {
          "output_type": "stream",
          "name": "stdout",
          "text": [
            "['Pinapple', 'apple', 'banana', 'cherry', 'orange', 24, -45, 0, 24]\n"
          ]
        }
      ]
    },
    {
      "cell_type": "markdown",
      "source": [
        "Python lists"
      ],
      "metadata": {
        "id": "Gg80YjNhEtGT"
      }
    },
    {
      "cell_type": "markdown",
      "source": [],
      "metadata": {
        "id": "fJa7qoGiukn1"
      }
    },
    {
      "cell_type": "markdown",
      "source": [],
      "metadata": {
        "id": "-01iFkzQvjzD"
      }
    },
    {
      "cell_type": "markdown",
      "source": [],
      "metadata": {
        "id": "j0dpxfKUvNsL"
      }
    },
    {
      "cell_type": "code",
      "source": [
        "import csv\n",
        "\n",
        "loss_items = []\n",
        "\n",
        "with open('/content/drive/MyDrive/Python/sales_datacl.csv') as f:\n",
        "    reader = csv.reader(f)\n",
        "    next(reader)  # skip header row\n",
        "\n",
        "    for count, row in enumerate(reader, start=1):\n",
        "        try:\n",
        "            # Unpack row\n",
        "            item, c, s, q = row\n",
        "            # Convert to numbers\n",
        "            c, s, q = float(c), float(s), int(q)\n",
        "        except ValueError:\n",
        "            print(f\"Skipping row with invalid data: {row}\")\n",
        "            continue\n",
        "\n",
        "        # Calculate revenue and cost\n",
        "        revenue = s * q\n",
        "        cost = c * q\n",
        "\n",
        "        if revenue < cost:\n",
        "            loss_items.append([item, c, s, q, cost - revenue])\n",
        "\n",
        "        # Only process first 5 rows (optional)\n",
        "        if count == 5:\n",
        "            break\n",
        "\n",
        "print(loss_items)\n",
        "\n",
        "from tabulate import tabulate\n",
        "\n",
        "# Define headers\n",
        "headers = [\"Item\", \"Cost\", \"Selling Price\", \"Quantity\", \"Loss\"]\n",
        "\n",
        "print(tabulate(loss_items, headers=headers, tablefmt=\"grid\"))"
      ],
      "metadata": {
        "colab": {
          "base_uri": "https://localhost:8080/"
        },
        "id": "rjhQAixPELu3",
        "outputId": "7f5dbac4-9ed1-4436-8dbf-68bfde4c6bd9"
      },
      "execution_count": null,
      "outputs": [
        {
          "output_type": "stream",
          "name": "stdout",
          "text": [
            "[['Cheese', 20.0, 17.0, 110, 330.0], ['Juice', 15.0, 13.0, 139, 278.0], ['Beef', 11.0, 6.0, 197, 985.0]]\n",
            "+--------+--------+-----------------+------------+--------+\n",
            "| Item   |   Cost |   Selling Price |   Quantity |   Loss |\n",
            "+========+========+=================+============+========+\n",
            "| Cheese |     20 |              17 |        110 |    330 |\n",
            "+--------+--------+-----------------+------------+--------+\n",
            "| Juice  |     15 |              13 |        139 |    278 |\n",
            "+--------+--------+-----------------+------------+--------+\n",
            "| Beef   |     11 |               6 |        197 |    985 |\n",
            "+--------+--------+-----------------+------------+--------+\n"
          ]
        }
      ]
    },
    {
      "cell_type": "markdown",
      "source": [
        "Day 4: Monday 8th of September"
      ],
      "metadata": {
        "id": "FcfacStsVFfo"
      }
    },
    {
      "cell_type": "code",
      "source": [
        "lst = ['apple', 'banana', 'cherry']"
      ],
      "metadata": {
        "id": "-MSYbZsiNWaP"
      },
      "execution_count": null,
      "outputs": []
    },
    {
      "cell_type": "code",
      "source": [
        "if 'cherry' in lst:\n",
        "  print('Yes, it is present')\n",
        "  print('The cherry is red')\n",
        "else:\n",
        "  print('No, it is not present')"
      ],
      "metadata": {
        "id": "U7LmaOvXMnIW",
        "outputId": "464f96bf-4028-40ba-ab8f-8d72b1202c8e",
        "colab": {
          "base_uri": "https://localhost:8080/"
        }
      },
      "execution_count": null,
      "outputs": [
        {
          "output_type": "stream",
          "name": "stdout",
          "text": [
            "Yes, it is present\n",
            "The cherry is red\n"
          ]
        }
      ]
    },
    {
      "cell_type": "code",
      "source": [
        "loss_items = []"
      ],
      "metadata": {
        "id": "F2srv0S5ITvo"
      },
      "execution_count": null,
      "outputs": []
    },
    {
      "cell_type": "code",
      "source": [
        "import csv\n",
        "loss_item = []\n",
        "with open ('/content/drive/MyDrive/Python/sales_datacl.csv') as f:\n",
        "  reader = csv. reader(f)\n",
        "  count = 0\n",
        "  for row in reader:\n",
        "    print(row)\n",
        "    count +=1\n",
        "    if count == 5 :\n",
        "     break\n",
        "\n",
        "    #convert items to number\n",
        "    for item, c, s, q in reader:\n",
        "      c, s, q = float(c), float(s), int(q)\n",
        "\n",
        "      #Calculate Revenueand Cost\n",
        "    revenue = s * q\n",
        "    cost = c * q\n",
        "\n",
        "\n",
        "  #Check for loss items\n",
        "    if revenue < cost:\n",
        "     loss_item.append([item, c, s, q, cost - revenue])\n"
      ],
      "metadata": {
        "id": "Lc_Gw29xRAKL",
        "outputId": "ef04feda-44e2-4348-a756-a1752ccc9dad",
        "colab": {
          "base_uri": "https://localhost:8080/"
        }
      },
      "execution_count": null,
      "outputs": [
        {
          "output_type": "stream",
          "name": "stdout",
          "text": [
            "['ItemName', 'CostPrice', 'SellingPrice', 'Quantity']\n"
          ]
        }
      ]
    },
    {
      "cell_type": "markdown",
      "source": [
        "Python Sets\n",
        "- set is created by using curly brackets"
      ],
      "metadata": {
        "id": "k_tB8QV2xECh"
      }
    },
    {
      "cell_type": "code",
      "source": [
        "myset = {'apple', 'orange', 'cherry'}\n"
      ],
      "metadata": {
        "id": "5BZMtik_xXjA"
      },
      "execution_count": null,
      "outputs": []
    },
    {
      "cell_type": "markdown",
      "source": [],
      "metadata": {
        "id": "zuLS5mPExD3B"
      }
    },
    {
      "cell_type": "markdown",
      "source": [],
      "metadata": {
        "id": "BXIqDSw4xDqB"
      }
    },
    {
      "cell_type": "code",
      "source": [
        "len(myset)"
      ],
      "metadata": {
        "id": "pmiq5KhDw-_Q",
        "outputId": "c405ab3a-47ed-4414-8e4f-9ce8a89f7a80",
        "colab": {
          "base_uri": "https://localhost:8080/"
        }
      },
      "execution_count": null,
      "outputs": [
        {
          "output_type": "execute_result",
          "data": {
            "text/plain": [
              "3"
            ]
          },
          "metadata": {},
          "execution_count": 32
        }
      ]
    },
    {
      "cell_type": "code",
      "source": [
        "print (len(myset))"
      ],
      "metadata": {
        "id": "TAqtrgWIyCUg",
        "outputId": "438a0c38-4886-4598-cac1-d2a11982c152",
        "colab": {
          "base_uri": "https://localhost:8080/"
        }
      },
      "execution_count": null,
      "outputs": [
        {
          "output_type": "stream",
          "name": "stdout",
          "text": [
            "3\n"
          ]
        }
      ]
    },
    {
      "cell_type": "code",
      "source": [
        "for item in myset:\n",
        "  print(item)"
      ],
      "metadata": {
        "id": "jGypQvVwyPJF",
        "outputId": "fb9f8271-b95b-4178-a05f-4fd92fff5dee",
        "colab": {
          "base_uri": "https://localhost:8080/"
        }
      },
      "execution_count": null,
      "outputs": [
        {
          "output_type": "stream",
          "name": "stdout",
          "text": [
            "cherry\n",
            "orange\n",
            "apple\n"
          ]
        }
      ]
    },
    {
      "cell_type": "code",
      "source": [
        "myset.add('banana')"
      ],
      "metadata": {
        "id": "yDZ7RBRbyXaA"
      },
      "execution_count": null,
      "outputs": []
    },
    {
      "cell_type": "markdown",
      "source": [],
      "metadata": {
        "id": "WvwQfGOTxDER"
      }
    },
    {
      "cell_type": "code",
      "source": [
        "myset"
      ],
      "metadata": {
        "id": "2FGkhz8yyeTC",
        "outputId": "8d324e58-6a0b-470c-9bbf-5d043fab7133",
        "colab": {
          "base_uri": "https://localhost:8080/"
        }
      },
      "execution_count": null,
      "outputs": [
        {
          "output_type": "execute_result",
          "data": {
            "text/plain": [
              "{'apple', 'banana', 'cherry', 'orange'}"
            ]
          },
          "metadata": {},
          "execution_count": 37
        }
      ]
    },
    {
      "cell_type": "code",
      "source": [],
      "metadata": {
        "id": "P8RGQTreyi2T"
      },
      "execution_count": null,
      "outputs": []
    },
    {
      "cell_type": "code",
      "source": [
        "myset.add('papaya')"
      ],
      "metadata": {
        "id": "dx8dY6djyl6F"
      },
      "execution_count": null,
      "outputs": []
    },
    {
      "cell_type": "code",
      "source": [
        "myset"
      ],
      "metadata": {
        "id": "dZ711_Owyrre",
        "outputId": "4dcad5e0-e8ce-4bcc-d1d5-7e56860a26b0",
        "colab": {
          "base_uri": "https://localhost:8080/"
        }
      },
      "execution_count": null,
      "outputs": [
        {
          "output_type": "execute_result",
          "data": {
            "text/plain": [
              "{'apple', 'banana', 'cherry', 'orange', 'papaya'}"
            ]
          },
          "metadata": {},
          "execution_count": 39
        }
      ]
    },
    {
      "cell_type": "markdown",
      "source": [
        "10th of September"
      ],
      "metadata": {
        "id": "MnT7uDQLnqvV"
      }
    },
    {
      "cell_type": "code",
      "source": [
        "#create Dictionary\n",
        "dic = {'James':90,\n",
        "       'Bond' : 87,\n",
        "       'Alice': 98,\n",
        "       'Johnson':100\n",
        "       }"
      ],
      "metadata": {
        "id": "pCPLNFbSnttN"
      },
      "execution_count": null,
      "outputs": []
    },
    {
      "cell_type": "code",
      "source": [
        "print(dic)"
      ],
      "metadata": {
        "id": "j56ym3t3oVBc",
        "outputId": "79876c29-dd4a-404a-cf45-7644205df9e7",
        "colab": {
          "base_uri": "https://localhost:8080/"
        }
      },
      "execution_count": null,
      "outputs": [
        {
          "output_type": "stream",
          "name": "stdout",
          "text": [
            "{'James': 90, 'Bond': 87, 'Alice': 98, 'Johnson': 100}\n"
          ]
        }
      ]
    },
    {
      "cell_type": "code",
      "source": [
        "dic2 = {'James': [56,67, 90, 100],\n",
        "        'Bond' : [100, 89, 67, 98],\n",
        "        'Alice': [150, 23, 45, 52]}"
      ],
      "metadata": {
        "id": "LSSXaJNEosf0"
      },
      "execution_count": null,
      "outputs": []
    },
    {
      "cell_type": "code",
      "source": [
        "print(dic2)"
      ],
      "metadata": {
        "id": "8lots8s0rk3P",
        "outputId": "0c3e9ce3-5aa7-4d44-97fe-af493b8f69d4",
        "colab": {
          "base_uri": "https://localhost:8080/"
        }
      },
      "execution_count": null,
      "outputs": [
        {
          "output_type": "stream",
          "name": "stdout",
          "text": [
            "{'James': [56, 67, 90, 100], 'Bond': [100, 89, 67, 98], 'Alice': [150, 23, 45, 52]}\n"
          ]
        }
      ]
    },
    {
      "cell_type": "code",
      "source": [
        "dic3 = {'James' : {'BDA': 45, 'Cyber': 78, 'Maths': 100},\n",
        "        'Simon': {'BDA': 89, 'Cyber' : 100, 'Maths': 89}}"
      ],
      "metadata": {
        "id": "CqvrdjenrzSE"
      },
      "execution_count": null,
      "outputs": []
    },
    {
      "cell_type": "code",
      "source": [
        "print(dic3)"
      ],
      "metadata": {
        "id": "IuVBTiCSr1L1",
        "outputId": "1bba4f64-563d-4fd4-f4a0-58fd3757544f",
        "colab": {
          "base_uri": "https://localhost:8080/"
        }
      },
      "execution_count": null,
      "outputs": [
        {
          "output_type": "stream",
          "name": "stdout",
          "text": [
            "{'James': {'BDA': 45, 'Cyber': 78, 'Maths': 100}, 'Simon': {'BDA': 89, 'Cyber': 100, 'Maths': 89}}\n"
          ]
        }
      ]
    },
    {
      "cell_type": "code",
      "source": [
        "x= dic3['James']"
      ],
      "metadata": {
        "id": "3Hxzruh7vBBH"
      },
      "execution_count": null,
      "outputs": []
    },
    {
      "cell_type": "code",
      "source": [
        "print(x)"
      ],
      "metadata": {
        "id": "QlGZ1M6dwESY",
        "outputId": "50265370-29c6-4d27-8306-267d44f3957a",
        "colab": {
          "base_uri": "https://localhost:8080/"
        }
      },
      "execution_count": null,
      "outputs": [
        {
          "output_type": "stream",
          "name": "stdout",
          "text": [
            "{'BDA': 45, 'Cyber': 78, 'Maths': 100}\n"
          ]
        }
      ]
    },
    {
      "cell_type": "code",
      "source": [
        "lst[-1]"
      ],
      "metadata": {
        "id": "ptYkrWhgxeB5",
        "outputId": "84ec3a87-ee16-473c-e637-088c5952f078",
        "colab": {
          "base_uri": "https://localhost:8080/"
        }
      },
      "execution_count": null,
      "outputs": [
        {
          "output_type": "execute_result",
          "data": {
            "text/plain": [
              "100"
            ]
          },
          "metadata": {},
          "execution_count": 14
        }
      ]
    },
    {
      "cell_type": "code",
      "source": [
        "print(lst)"
      ],
      "metadata": {
        "id": "FzTSG8SMxk3C",
        "outputId": "7cc22a80-8ab9-49ca-dc76-d52e325166a3",
        "colab": {
          "base_uri": "https://localhost:8080/"
        }
      },
      "execution_count": null,
      "outputs": [
        {
          "output_type": "stream",
          "name": "stdout",
          "text": [
            "[1, 2, 3, 4, 100]\n"
          ]
        }
      ]
    },
    {
      "cell_type": "code",
      "source": [
        "class_dict = {\n",
        "    'Alice' : {'age':14, 'grade': 'A'},\n",
        "    'Bob' : {'age':15, 'grade': 'B'},\n",
        "    'Charlie' : {'age':16, 'grade': 'C'},\n",
        "    'David' : {'age':17, 'grade': 'D'},\n",
        "    'Eve' : {'age':18, 'grade': 'E'}\n",
        "}\n",
        "\n",
        "print('Class dictionary created')"
      ],
      "metadata": {
        "id": "5F38tg5-2IZW",
        "outputId": "ecbb788e-cd94-40f9-de01-34dfd1f83fe4",
        "colab": {
          "base_uri": "https://localhost:8080/"
        }
      },
      "execution_count": null,
      "outputs": [
        {
          "output_type": "stream",
          "name": "stdout",
          "text": [
            "Class dictionary created\n"
          ]
        }
      ]
    },
    {
      "cell_type": "code",
      "source": [
        "#use if statement\n",
        "age = 14\n",
        "if age >= 16:\n",
        "  print('You are eligible to vote')\n"
      ],
      "metadata": {
        "id": "97hZuJuUE9Bl"
      },
      "execution_count": null,
      "outputs": []
    },
    {
      "cell_type": "code",
      "source": [
        "#use if statement\n",
        "age = 14\n",
        "if age >= 16:\n",
        "  print('You are eligible to vote')\n",
        "else:\n",
        "  print('You are not eligible to vote')\n"
      ],
      "metadata": {
        "id": "igzdY_VhEjMj",
        "outputId": "0e98b7fc-c5e3-4ece-96f5-b851e4a0762b",
        "colab": {
          "base_uri": "https://localhost:8080/"
        }
      },
      "execution_count": null,
      "outputs": [
        {
          "output_type": "stream",
          "name": "stdout",
          "text": [
            "You are not eligible to vote\n"
          ]
        }
      ]
    },
    {
      "cell_type": "code",
      "source": [
        "num1 = 12\n",
        "num2 = 12\n",
        "if num1 == num2:\n",
        "  print(f'{num1} and {num2} are equal')\n",
        "else:\n",
        "  print(f'{num1} and {num2} are not equal')"
      ],
      "metadata": {
        "id": "lkFtKzP3GXJo"
      },
      "execution_count": null,
      "outputs": []
    },
    {
      "cell_type": "code",
      "source": [],
      "metadata": {
        "id": "LWylok_Js7We"
      },
      "execution_count": null,
      "outputs": []
    },
    {
      "cell_type": "markdown",
      "source": [
        "11th of September W6 Day 3"
      ],
      "metadata": {
        "id": "r8fn6rAau9dd"
      }
    },
    {
      "cell_type": "code",
      "source": [
        "age = int(input('How old are you?'))\n",
        "if age>=18:\n",
        "  print('You are eligible to vote')\n",
        "else:\n",
        "  print('You are not eligible to vote')"
      ],
      "metadata": {
        "id": "p8qc5WRIvsQU",
        "colab": {
          "base_uri": "https://localhost:8080/",
          "height": 356
        },
        "outputId": "75152fa2-9bf2-4caf-f562-87e4f1aaff2e"
      },
      "execution_count": null,
      "outputs": [
        {
          "output_type": "error",
          "ename": "KeyboardInterrupt",
          "evalue": "Interrupted by user",
          "traceback": [
            "\u001b[0;31m---------------------------------------------------------------------------\u001b[0m",
            "\u001b[0;31mKeyboardInterrupt\u001b[0m                         Traceback (most recent call last)",
            "\u001b[0;32m/tmp/ipython-input-1432304106.py\u001b[0m in \u001b[0;36m<cell line: 0>\u001b[0;34m()\u001b[0m\n\u001b[0;32m----> 1\u001b[0;31m \u001b[0mage\u001b[0m \u001b[0;34m=\u001b[0m \u001b[0mint\u001b[0m\u001b[0;34m(\u001b[0m\u001b[0minput\u001b[0m\u001b[0;34m(\u001b[0m\u001b[0;34m'How old are you?'\u001b[0m\u001b[0;34m)\u001b[0m\u001b[0;34m)\u001b[0m\u001b[0;34m\u001b[0m\u001b[0;34m\u001b[0m\u001b[0m\n\u001b[0m\u001b[1;32m      2\u001b[0m \u001b[0;32mif\u001b[0m \u001b[0mage\u001b[0m\u001b[0;34m>=\u001b[0m\u001b[0;36m18\u001b[0m\u001b[0;34m:\u001b[0m\u001b[0;34m\u001b[0m\u001b[0;34m\u001b[0m\u001b[0m\n\u001b[1;32m      3\u001b[0m   \u001b[0mprint\u001b[0m\u001b[0;34m(\u001b[0m\u001b[0;34m'You are eligible to vote'\u001b[0m\u001b[0;34m)\u001b[0m\u001b[0;34m\u001b[0m\u001b[0;34m\u001b[0m\u001b[0m\n\u001b[1;32m      4\u001b[0m \u001b[0;32melse\u001b[0m\u001b[0;34m:\u001b[0m\u001b[0;34m\u001b[0m\u001b[0;34m\u001b[0m\u001b[0m\n\u001b[1;32m      5\u001b[0m   \u001b[0mprint\u001b[0m\u001b[0;34m(\u001b[0m\u001b[0;34m'You are not eligible to vote'\u001b[0m\u001b[0;34m)\u001b[0m\u001b[0;34m\u001b[0m\u001b[0;34m\u001b[0m\u001b[0m\n",
            "\u001b[0;32m/usr/local/lib/python3.12/dist-packages/ipykernel/kernelbase.py\u001b[0m in \u001b[0;36mraw_input\u001b[0;34m(self, prompt)\u001b[0m\n\u001b[1;32m   1175\u001b[0m                 \u001b[0;34m\"raw_input was called, but this frontend does not support input requests.\"\u001b[0m\u001b[0;34m\u001b[0m\u001b[0;34m\u001b[0m\u001b[0m\n\u001b[1;32m   1176\u001b[0m             )\n\u001b[0;32m-> 1177\u001b[0;31m         return self._input_request(\n\u001b[0m\u001b[1;32m   1178\u001b[0m             \u001b[0mstr\u001b[0m\u001b[0;34m(\u001b[0m\u001b[0mprompt\u001b[0m\u001b[0;34m)\u001b[0m\u001b[0;34m,\u001b[0m\u001b[0;34m\u001b[0m\u001b[0;34m\u001b[0m\u001b[0m\n\u001b[1;32m   1179\u001b[0m             \u001b[0mself\u001b[0m\u001b[0;34m.\u001b[0m\u001b[0m_parent_ident\u001b[0m\u001b[0;34m[\u001b[0m\u001b[0;34m\"shell\"\u001b[0m\u001b[0;34m]\u001b[0m\u001b[0;34m,\u001b[0m\u001b[0;34m\u001b[0m\u001b[0;34m\u001b[0m\u001b[0m\n",
            "\u001b[0;32m/usr/local/lib/python3.12/dist-packages/ipykernel/kernelbase.py\u001b[0m in \u001b[0;36m_input_request\u001b[0;34m(self, prompt, ident, parent, password)\u001b[0m\n\u001b[1;32m   1217\u001b[0m             \u001b[0;32mexcept\u001b[0m \u001b[0mKeyboardInterrupt\u001b[0m\u001b[0;34m:\u001b[0m\u001b[0;34m\u001b[0m\u001b[0;34m\u001b[0m\u001b[0m\n\u001b[1;32m   1218\u001b[0m                 \u001b[0;31m# re-raise KeyboardInterrupt, to truncate traceback\u001b[0m\u001b[0;34m\u001b[0m\u001b[0;34m\u001b[0m\u001b[0m\n\u001b[0;32m-> 1219\u001b[0;31m                 \u001b[0;32mraise\u001b[0m \u001b[0mKeyboardInterrupt\u001b[0m\u001b[0;34m(\u001b[0m\u001b[0;34m\"Interrupted by user\"\u001b[0m\u001b[0;34m)\u001b[0m \u001b[0;32mfrom\u001b[0m \u001b[0;32mNone\u001b[0m\u001b[0;34m\u001b[0m\u001b[0;34m\u001b[0m\u001b[0m\n\u001b[0m\u001b[1;32m   1220\u001b[0m             \u001b[0;32mexcept\u001b[0m \u001b[0mException\u001b[0m\u001b[0;34m:\u001b[0m\u001b[0;34m\u001b[0m\u001b[0;34m\u001b[0m\u001b[0m\n\u001b[1;32m   1221\u001b[0m                 \u001b[0mself\u001b[0m\u001b[0;34m.\u001b[0m\u001b[0mlog\u001b[0m\u001b[0;34m.\u001b[0m\u001b[0mwarning\u001b[0m\u001b[0;34m(\u001b[0m\u001b[0;34m\"Invalid Message:\"\u001b[0m\u001b[0;34m,\u001b[0m \u001b[0mexc_info\u001b[0m\u001b[0;34m=\u001b[0m\u001b[0;32mTrue\u001b[0m\u001b[0;34m)\u001b[0m\u001b[0;34m\u001b[0m\u001b[0;34m\u001b[0m\u001b[0m\n",
            "\u001b[0;31mKeyboardInterrupt\u001b[0m: Interrupted by user"
          ]
        }
      ]
    },
    {
      "cell_type": "code",
      "source": [
        "age = int(input('How old are you?'))\n",
        "if age>=18:\n",
        "  print('You are eligible to vote')\n",
        "else:\n",
        "  print('You are not eligible to vote')"
      ],
      "metadata": {
        "id": "d2m0GASivVpE",
        "outputId": "2314d4d8-85d3-4135-eb64-dbdf13cf5e4a",
        "colab": {
          "base_uri": "https://localhost:8080/"
        }
      },
      "execution_count": null,
      "outputs": [
        {
          "output_type": "stream",
          "name": "stdout",
          "text": [
            "How old are you?20\n",
            "You are eligible to vote\n"
          ]
        }
      ]
    },
    {
      "cell_type": "code",
      "source": [
        "num = [0, 1, 2, 3, 4, 5]\n",
        "for item in num:\n",
        "  print(item)"
      ],
      "metadata": {
        "id": "LOfMjpEX0YBX",
        "outputId": "9a8504eb-f6fd-4698-97e2-9397ddac279f",
        "colab": {
          "base_uri": "https://localhost:8080/"
        }
      },
      "execution_count": null,
      "outputs": [
        {
          "output_type": "stream",
          "name": "stdout",
          "text": [
            "0\n",
            "1\n",
            "2\n",
            "3\n",
            "4\n",
            "5\n"
          ]
        }
      ]
    },
    {
      "cell_type": "code",
      "source": [
        "elst = []\n",
        "num = [0, 1, 2, 3, 4, 5]\n",
        "for item in num:\n",
        "  print(item * 3)\n",
        "  elst.append(item)"
      ],
      "metadata": {
        "id": "4nIWWFdc6dmS",
        "outputId": "9308b5ca-fc4c-4806-f3ee-8d8e01e676b5",
        "colab": {
          "base_uri": "https://localhost:8080/"
        }
      },
      "execution_count": null,
      "outputs": [
        {
          "output_type": "stream",
          "name": "stdout",
          "text": [
            "0\n",
            "3\n",
            "6\n",
            "9\n",
            "12\n",
            "15\n"
          ]
        }
      ]
    },
    {
      "cell_type": "code",
      "source": [
        "elst = []\n",
        "num = [0, 1, 2, 3, 4, 5]\n",
        "for item in num:\n",
        "#  print(item * 3)\n",
        "  elst.append(item * 5)\n",
        "print (elst)"
      ],
      "metadata": {
        "id": "qdoI2JFv7FNP",
        "outputId": "93be307e-f3f2-43d1-c8f7-2a6573bf1b89",
        "colab": {
          "base_uri": "https://localhost:8080/"
        }
      },
      "execution_count": null,
      "outputs": [
        {
          "output_type": "stream",
          "name": "stdout",
          "text": [
            "[0, 5, 10, 15, 20, 25]\n"
          ]
        }
      ]
    },
    {
      "cell_type": "code",
      "source": [
        "count = 0\n",
        "score = [45, 67, 38, 90, 55, 42, 78, 33, 85, 60]\n",
        "for i in score:\n",
        "    if i> 50:\n",
        "       count = count + 1\n",
        "print(count)"
      ],
      "metadata": {
        "id": "CXJLt_o88dam",
        "outputId": "4901fa48-b09e-4bfe-c1fb-6071676b7ada",
        "colab": {
          "base_uri": "https://localhost:8080/"
        }
      },
      "execution_count": null,
      "outputs": [
        {
          "output_type": "stream",
          "name": "stdout",
          "text": [
            "6\n"
          ]
        }
      ]
    },
    {
      "cell_type": "code",
      "source": [
        "countless = 0\n",
        "count = 0\n",
        "score = [45, 67, 38, 90, 55, 42, 78, 33, 85, 60]\n",
        "for i in score:\n",
        "    if i> 50:\n",
        "       count = count + 1\n",
        "    else:\n",
        "      countless = countless + 1\n",
        "print(f'These are the score greater than 50 {count}, and these are the score less than 50 {countless}')\n"
      ],
      "metadata": {
        "id": "_awp6d_b-NV-",
        "outputId": "1e19d115-9e17-4176-f780-87276c8b8120",
        "colab": {
          "base_uri": "https://localhost:8080/"
        }
      },
      "execution_count": null,
      "outputs": [
        {
          "output_type": "stream",
          "name": "stdout",
          "text": [
            "These are the score greater than 50 6, ad these are the score less than 50 4\n"
          ]
        }
      ]
    },
    {
      "cell_type": "code",
      "source": [
        "even_list = []\n",
        "num = list (range(0, 11))\n",
        "for i in num:\n",
        "  if i % 2 == 0:\n",
        "    even_list.append(i)\n",
        "print(even_list)"
      ],
      "metadata": {
        "id": "H7ulOLIKAMYz",
        "outputId": "2e15d3c6-223a-42a7-eb10-2cc5551a752c",
        "colab": {
          "base_uri": "https://localhost:8080/"
        }
      },
      "execution_count": null,
      "outputs": [
        {
          "output_type": "stream",
          "name": "stdout",
          "text": [
            "[0, 2, 4, 6, 8, 10]\n"
          ]
        }
      ]
    },
    {
      "cell_type": "markdown",
      "source": [
        "Friday 12th of September 2025"
      ],
      "metadata": {
        "id": "VIUz5mYFHgpJ"
      }
    },
    {
      "cell_type": "code",
      "source": [
        "#create Python Function\n",
        "\n",
        "def sqr_no():\n",
        " num = int(input('Enter a number'))\n",
        " ans = num * num #or num **2\n",
        " return ans"
      ],
      "metadata": {
        "id": "BylAfbXiHgEB"
      },
      "execution_count": 8,
      "outputs": []
    },
    {
      "cell_type": "code",
      "source": [
        "#to call function\n",
        "sqr_no()"
      ],
      "metadata": {
        "id": "J48Uw40IHuXb",
        "outputId": "55187a3b-9220-41e3-8a8d-51777b6f3f01",
        "colab": {
          "base_uri": "https://localhost:8080/"
        }
      },
      "execution_count": 9,
      "outputs": [
        {
          "name": "stdout",
          "output_type": "stream",
          "text": [
            "Enter a number24\n"
          ]
        },
        {
          "output_type": "execute_result",
          "data": {
            "text/plain": [
              "576"
            ]
          },
          "metadata": {},
          "execution_count": 9
        }
      ]
    },
    {
      "cell_type": "code",
      "source": [
        "# function to take 2 numbers from users\n",
        "# multiply the 2 numers\n",
        "# return the answer"
      ],
      "metadata": {
        "id": "pIAsvyK-IzNf"
      },
      "execution_count": null,
      "outputs": []
    },
    {
      "cell_type": "code",
      "source": [
        "def multiply_numbers():\n",
        "    # Ask user for two numbers\n",
        "    num1 = float(input('Enter the 1st number: '))\n",
        "    num2 = float(input('Enter the 2nd number: '))\n",
        "\n",
        "    # Multiply\n",
        "    result = num1 * num2\n",
        "\n",
        "    # Show result\n",
        "    print(f\"The product of {num1} and {num2} is {result}\")\n",
        "\n",
        "# Call the function\n",
        "multiply_numbers()"
      ],
      "metadata": {
        "id": "tCp2KDI8JcNF",
        "outputId": "986ed9f7-7fb2-4b20-ba7d-b152802ffd92",
        "colab": {
          "base_uri": "https://localhost:8080/"
        }
      },
      "execution_count": 10,
      "outputs": [
        {
          "output_type": "stream",
          "name": "stdout",
          "text": [
            "Enter the 1st number: 2\n",
            "Enter the 2nd number: 3\n",
            "The product of 2.0 and 3.0 is 6.0\n"
          ]
        }
      ]
    },
    {
      "cell_type": "code",
      "source": [
        "def greet(name):\n",
        "  print(\"Hello\" + name)\n",
        "  length = len(name)\n",
        "  print(f\"Your name is {length} characters long \",)\n",
        "\n",
        "greet(\"Dan\")"
      ],
      "metadata": {
        "id": "8SqPu8-NKsJh",
        "outputId": "796c7349-e733-4392-8195-63f1b3054460",
        "colab": {
          "base_uri": "https://localhost:8080/"
        }
      },
      "execution_count": 11,
      "outputs": [
        {
          "output_type": "stream",
          "name": "stdout",
          "text": [
            "HelloDan\n",
            "Your name is 3 characters long \n"
          ]
        }
      ]
    },
    {
      "cell_type": "markdown",
      "source": [],
      "metadata": {
        "id": "GhtfXqTOLnQG"
      }
    },
    {
      "cell_type": "code",
      "source": [
        "def greet():\n",
        "  name= input('Enter your name')\n",
        "  greet = 'Welcome Happy Friday'\n",
        "  ln = len(name)\n",
        "  print(f'{greet} ln is {ln}')"
      ],
      "metadata": {
        "id": "w5ZYmc4BOIFP"
      },
      "execution_count": 17,
      "outputs": []
    },
    {
      "cell_type": "code",
      "source": [
        "num_even =[]\n",
        "num = [1,2,3,4,5,6,7,8,9,10]\n",
        "for i in num:\n",
        "  if i % 2 == 0:\n",
        "    num_even.append(i)\n",
        "print(num_even)"
      ],
      "metadata": {
        "id": "8h4SDYGESFiB",
        "outputId": "93c181d0-8351-4f94-9f5c-afcc88800775",
        "colab": {
          "base_uri": "https://localhost:8080/"
        }
      },
      "execution_count": 18,
      "outputs": [
        {
          "output_type": "stream",
          "name": "stdout",
          "text": [
            "[2, 4, 6, 8, 10]\n"
          ]
        }
      ]
    },
    {
      "cell_type": "code",
      "source": [
        "num = [1, 2, 3, 4, 5, 6, 7, 8, 9, 10]\n",
        "num_even = [i for i in num if i % 2 == 0]\n",
        "print(num_even)"
      ],
      "metadata": {
        "id": "p2bxqUPfSgdi",
        "outputId": "ab19236f-9fe2-47ae-d76b-64b4b036b79d",
        "colab": {
          "base_uri": "https://localhost:8080/"
        }
      },
      "execution_count": 19,
      "outputs": [
        {
          "output_type": "stream",
          "name": "stdout",
          "text": [
            "[2, 4, 6, 8, 10]\n"
          ]
        }
      ]
    },
    {
      "cell_type": "code",
      "source": [
        "num2 = list(range(0, 21))\n",
        "print(num2)"
      ],
      "metadata": {
        "id": "B9SRpOXzSw0p",
        "outputId": "568b5252-8f55-4ee4-f333-443c13eadb2b",
        "colab": {
          "base_uri": "https://localhost:8080/"
        }
      },
      "execution_count": 20,
      "outputs": [
        {
          "output_type": "stream",
          "name": "stdout",
          "text": [
            "[0, 1, 2, 3, 4, 5, 6, 7, 8, 9, 10, 11, 12, 13, 14, 15, 16, 17, 18, 19, 20]\n"
          ]
        }
      ]
    },
    {
      "cell_type": "code",
      "source": [
        "num2 = list(range(0, 21))\n",
        "num_odd = [i for i in num2 if i % 2 != 0]\n",
        "print(num_odd)"
      ],
      "metadata": {
        "id": "s9BvlwEjTvpe",
        "outputId": "9fb46a4b-5537-46af-9faa-5678de5ed874",
        "colab": {
          "base_uri": "https://localhost:8080/"
        }
      },
      "execution_count": 21,
      "outputs": [
        {
          "output_type": "stream",
          "name": "stdout",
          "text": [
            "[1, 3, 5, 7, 9, 11, 13, 15, 17, 19]\n"
          ]
        }
      ]
    },
    {
      "cell_type": "code",
      "source": [
        "num4 = list(range(0, 21))\n",
        "num_even = [i + 7 for i in num4 if i % 2 == 1]\n",
        "print(num_even)"
      ],
      "metadata": {
        "id": "scGkUBoEU9xy",
        "outputId": "934f7448-35ac-4404-a7f6-fe6dff138183",
        "colab": {
          "base_uri": "https://localhost:8080/"
        }
      },
      "execution_count": 22,
      "outputs": [
        {
          "output_type": "stream",
          "name": "stdout",
          "text": [
            "[8, 10, 12, 14, 16, 18, 20, 22, 24, 26]\n"
          ]
        }
      ]
    },
    {
      "cell_type": "markdown",
      "source": [],
      "metadata": {
        "id": "Qknx01dFWWYb"
      }
    },
    {
      "cell_type": "code",
      "source": [
        "num4 = list(range(1,9))\n",
        "oddsqr = [i*i for i in num4 if i % 2 == 1]\n",
        "print (oddsqr)\n",
        "\n",
        ""
      ],
      "metadata": {
        "id": "l0vEfdPsYiYc",
        "outputId": "d8a7d78a-a962-49b3-846e-2352d97ac8eb",
        "colab": {
          "base_uri": "https://localhost:8080/"
        }
      },
      "execution_count": 23,
      "outputs": [
        {
          "output_type": "stream",
          "name": "stdout",
          "text": [
            "[1, 9, 25, 49]\n"
          ]
        }
      ]
    },
    {
      "cell_type": "code",
      "source": [
        "list_d = [44, 55, 65, 80]\n",
        "num2= [i for i in list_d if i % 5 == 0]\n",
        "print(num2)"
      ],
      "metadata": {
        "id": "5evw5kjIaelo",
        "outputId": "9b7093a5-6eec-44f2-aaa2-8dfd4f7632ff",
        "colab": {
          "base_uri": "https://localhost:8080/"
        }
      },
      "execution_count": 25,
      "outputs": [
        {
          "output_type": "stream",
          "name": "stdout",
          "text": [
            "[55, 65, 80]\n"
          ]
        }
      ]
    },
    {
      "cell_type": "code",
      "source": [
        "#create Lambda\n",
        "x= lambda a: a + 10"
      ],
      "metadata": {
        "id": "0m1zKQ6jeFg6"
      },
      "execution_count": 26,
      "outputs": []
    },
    {
      "cell_type": "code",
      "source": [
        "print(x(5))"
      ],
      "metadata": {
        "id": "7ABI1s_keWbf",
        "outputId": "d27c5649-e597-4782-c476-60f92d8e7e1f",
        "colab": {
          "base_uri": "https://localhost:8080/"
        }
      },
      "execution_count": 28,
      "outputs": [
        {
          "output_type": "stream",
          "name": "stdout",
          "text": [
            "15\n"
          ]
        }
      ]
    },
    {
      "cell_type": "code",
      "source": [
        "y = lambda b, c: b * c"
      ],
      "metadata": {
        "id": "YEnOqMivfk6k"
      },
      "execution_count": 30,
      "outputs": []
    },
    {
      "cell_type": "code",
      "source": [
        "print(y(2, 4))"
      ],
      "metadata": {
        "id": "hT1noOUQgAvG",
        "outputId": "f037d537-6069-4d2b-e104-a24b1dab73e1",
        "colab": {
          "base_uri": "https://localhost:8080/"
        }
      },
      "execution_count": 31,
      "outputs": [
        {
          "output_type": "stream",
          "name": "stdout",
          "text": [
            "8\n"
          ]
        }
      ]
    },
    {
      "cell_type": "code",
      "source": [
        "def mult_2()"
      ],
      "metadata": {
        "id": "EaB4THJQgM7R"
      },
      "execution_count": null,
      "outputs": []
    }
  ]
}