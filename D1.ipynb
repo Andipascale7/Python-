{
  "nbformat": 4,
  "nbformat_minor": 0,
  "metadata": {
    "colab": {
      "provenance": [],
      "mount_file_id": "https://github.com/Andipascale7/Python-/blob/Intro/D1.ipynb",
      "authorship_tag": "ABX9TyMTyCDG8MzIm5BxA5dMOCNm",
      "include_colab_link": true
    },
    "kernelspec": {
      "name": "python3",
      "display_name": "Python 3"
    },
    "language_info": {
      "name": "python"
    }
  },
  "cells": [
    {
      "cell_type": "markdown",
      "metadata": {
        "id": "view-in-github",
        "colab_type": "text"
      },
      "source": [
        "<a href=\"https://colab.research.google.com/github/Andipascale7/Python-/blob/Intro/D1.ipynb\" target=\"_parent\"><img src=\"https://colab.research.google.com/assets/colab-badge.svg\" alt=\"Open In Colab\"/></a>"
      ]
    },
    {
      "cell_type": "code",
      "execution_count": 3,
      "metadata": {
        "id": "TEWP1k0oeeJ1",
        "colab": {
          "base_uri": "https://localhost:8080/"
        },
        "outputId": "2804ed6b-e704-4e8f-cd19-a4850a05db6d"
      },
      "outputs": [
        {
          "output_type": "stream",
          "name": "stdout",
          "text": [
            "Dipo Adeniyi\n"
          ]
        }
      ],
      "source": [
        "name = 'Dipo Adiyi'\n",
        "\n",
        "print(name)\n",
        "\n",
        "\n",
        "\n"
      ]
    },
    {
      "cell_type": "markdown",
      "source": [],
      "metadata": {
        "id": "iELXwZjyxCkT"
      }
    },
    {
      "cell_type": "markdown",
      "source": [],
      "metadata": {
        "id": "MJ5lFVBdxBGz"
      }
    },
    {
      "cell_type": "code",
      "source": [
        "print ('My Name is Dipo, welcome to BDA')"
      ],
      "metadata": {
        "colab": {
          "base_uri": "https://localhost:8080/"
        },
        "id": "V6v7ahpEwuhl",
        "outputId": "97e5f145-5b66-43bc-de81-eced342979ae"
      },
      "execution_count": 5,
      "outputs": [
        {
          "output_type": "stream",
          "name": "stdout",
          "text": [
            "My Name is Dipo, welcome to BDA\n"
          ]
        }
      ]
    },
    {
      "cell_type": "code",
      "source": [
        "your_name = input('Please enter your name')\n",
        "\n"
      ],
      "metadata": {
        "colab": {
          "base_uri": "https://localhost:8080/"
        },
        "id": "Ew4lMkuyyEa6",
        "outputId": "eba22041-c9ba-4e4a-bff8-f893ed1ebe43"
      },
      "execution_count": 10,
      "outputs": [
        {
          "name": "stdout",
          "output_type": "stream",
          "text": [
            "Please enter your nameAndi\n"
          ]
        }
      ]
    },
    {
      "cell_type": "code",
      "source": [
        "Country = input('Where is your Country?   ')"
      ],
      "metadata": {
        "colab": {
          "base_uri": "https://localhost:8080/"
        },
        "id": "11o8K7vLzHwN",
        "outputId": "5667a1fa-973e-4a25-d98b-601134c4bb2c"
      },
      "execution_count": 12,
      "outputs": [
        {
          "name": "stdout",
          "output_type": "stream",
          "text": [
            "Where is your Country?   \n"
          ]
        }
      ]
    },
    {
      "cell_type": "code",
      "source": [
        "name_country = your_name + ' ' + Country\n",
        "print(name_country)\n"
      ],
      "metadata": {
        "colab": {
          "base_uri": "https://localhost:8080/"
        },
        "id": "8h4cod9iziHj",
        "outputId": "1fc45058-a6a4-42c2-c934-52cc0965d113"
      },
      "execution_count": 13,
      "outputs": [
        {
          "output_type": "stream",
          "name": "stdout",
          "text": [
            "Andi \n"
          ]
        }
      ]
    },
    {
      "cell_type": "code",
      "source": [
        "print (name_country)"
      ],
      "metadata": {
        "colab": {
          "base_uri": "https://localhost:8080/"
        },
        "id": "VOEjV6TE0AHw",
        "outputId": "02ae5254-6bdd-4f77-9f6f-2a25ec76d9a5"
      },
      "execution_count": 14,
      "outputs": [
        {
          "output_type": "stream",
          "name": "stdout",
          "text": [
            "Andi \n"
          ]
        }
      ]
    },
    {
      "cell_type": "code",
      "source": [
        "print (78+90)"
      ],
      "metadata": {
        "colab": {
          "base_uri": "https://localhost:8080/"
        },
        "id": "lmab9Isoz0uL",
        "outputId": "b3fc752a-bd62-45be-cc3d-d483c90cb43c"
      },
      "execution_count": 17,
      "outputs": [
        {
          "output_type": "stream",
          "name": "stdout",
          "text": [
            "168\n"
          ]
        }
      ]
    },
    {
      "cell_type": "markdown",
      "source": [],
      "metadata": {
        "id": "Wrvc7iwlzz0U"
      }
    },
    {
      "cell_type": "code",
      "source": [
        "age = input ('Please enter your age ')"
      ],
      "metadata": {
        "colab": {
          "base_uri": "https://localhost:8080/"
        },
        "id": "YV2PAmy90hK0",
        "outputId": "fa2e92db-44cf-4749-b1a0-05efb88c70b0"
      },
      "execution_count": 20,
      "outputs": [
        {
          "name": "stdout",
          "output_type": "stream",
          "text": [
            "Please enter your age 25\n"
          ]
        }
      ]
    },
    {
      "cell_type": "code",
      "source": [
        "print(34 + age)"
      ],
      "metadata": {
        "colab": {
          "base_uri": "https://localhost:8080/",
          "height": 141
        },
        "id": "-Y72lUWQ1dDp",
        "outputId": "c64ae3ba-99ee-44d4-c4fa-e6f6bc2ea257"
      },
      "execution_count": 21,
      "outputs": [
        {
          "output_type": "error",
          "ename": "TypeError",
          "evalue": "unsupported operand type(s) for +: 'int' and 'str'",
          "traceback": [
            "\u001b[0;31m---------------------------------------------------------------------------\u001b[0m",
            "\u001b[0;31mTypeError\u001b[0m                                 Traceback (most recent call last)",
            "\u001b[0;32m/tmp/ipython-input-1128974555.py\u001b[0m in \u001b[0;36m<cell line: 0>\u001b[0;34m()\u001b[0m\n\u001b[0;32m----> 1\u001b[0;31m \u001b[0mprint\u001b[0m\u001b[0;34m(\u001b[0m\u001b[0;36m34\u001b[0m \u001b[0;34m+\u001b[0m \u001b[0mage\u001b[0m\u001b[0;34m)\u001b[0m\u001b[0;34m\u001b[0m\u001b[0;34m\u001b[0m\u001b[0m\n\u001b[0m",
            "\u001b[0;31mTypeError\u001b[0m: unsupported operand type(s) for +: 'int' and 'str'"
          ]
        }
      ]
    },
    {
      "cell_type": "code",
      "source": [
        "age = int(input('Please enter your age '))"
      ],
      "metadata": {
        "colab": {
          "base_uri": "https://localhost:8080/"
        },
        "id": "sR8B5EM61SBP",
        "outputId": "cc8f1d45-c8b1-41e3-c51a-e9b1f8fae222"
      },
      "execution_count": 22,
      "outputs": [
        {
          "name": "stdout",
          "output_type": "stream",
          "text": [
            "Please enter your age 21\n"
          ]
        }
      ]
    },
    {
      "cell_type": "code",
      "source": [
        "new_age= input('How old are you?')\n",
        "year_study= input('How long have you been studying')"
      ],
      "metadata": {
        "colab": {
          "base_uri": "https://localhost:8080/"
        },
        "id": "5r5E4B_Q1p3m",
        "outputId": "03e6b68b-43c9-42a1-c0e9-495e2aec64fd"
      },
      "execution_count": 23,
      "outputs": [
        {
          "name": "stdout",
          "output_type": "stream",
          "text": [
            "How old are you?25\n",
            "How long have you been studying4\n"
          ]
        }
      ]
    },
    {
      "cell_type": "code",
      "source": [
        "print(name, age)"
      ],
      "metadata": {
        "colab": {
          "base_uri": "https://localhost:8080/"
        },
        "id": "JEwgiFZC44K5",
        "outputId": "bcc05f15-6459-4dd8-ee8a-13a0fec584fa"
      },
      "execution_count": 24,
      "outputs": [
        {
          "output_type": "stream",
          "name": "stdout",
          "text": [
            "Dipo Adeniyi 21\n"
          ]
        }
      ]
    },
    {
      "cell_type": "code",
      "source": [
        "print(f'My name is {name} I am a BDA tutor at Imeta Training and I am {age} year old')"
      ],
      "metadata": {
        "id": "ppas7DSF7Xor",
        "outputId": "8ecfb8c4-7752-4bf6-b4d8-4114bd803223",
        "colab": {
          "base_uri": "https://localhost:8080/"
        }
      },
      "execution_count": 25,
      "outputs": [
        {
          "output_type": "stream",
          "name": "stdout",
          "text": [
            "My name is Dipo Adeniyi I am a BDA tutor at Imeta Training and I am 21 year old\n"
          ]
        }
      ]
    },
    {
      "cell_type": "code",
      "source": [
        "num = len('Welcome to Ibiza')\n",
        "print(num)"
      ],
      "metadata": {
        "id": "S2gppsR_70BN",
        "outputId": "e6d08140-f93b-47ea-c8e9-3985515eadbf",
        "colab": {
          "base_uri": "https://localhost:8080/"
        }
      },
      "execution_count": 34,
      "outputs": [
        {
          "output_type": "stream",
          "name": "stdout",
          "text": [
            "16\n"
          ]
        }
      ]
    },
    {
      "cell_type": "code",
      "source": [
        "result = 5+73\n",
        "print(result)"
      ],
      "metadata": {
        "id": "xmTTuDRk9MaA",
        "outputId": "55f73934-6389-45fd-f52b-969f1ec72d08",
        "colab": {
          "base_uri": "https://localhost:8080/"
        }
      },
      "execution_count": 36,
      "outputs": [
        {
          "output_type": "stream",
          "name": "stdout",
          "text": [
            "78\n"
          ]
        }
      ]
    },
    {
      "cell_type": "code",
      "source": [
        "print(17/3)"
      ],
      "metadata": {
        "id": "gAA2RHxp9tKE",
        "outputId": "eda95a45-fbf8-4131-e831-fb4727813309",
        "colab": {
          "base_uri": "https://localhost:8080/"
        }
      },
      "execution_count": 38,
      "outputs": [
        {
          "output_type": "stream",
          "name": "stdout",
          "text": [
            "5.666666666666667\n"
          ]
        }
      ]
    },
    {
      "cell_type": "code",
      "source": [
        "print(17//3)\n"
      ],
      "metadata": {
        "id": "nJbLXMRF92Cq",
        "outputId": "68dd0a76-9146-4dd4-ab24-6e744f366e5e",
        "colab": {
          "base_uri": "https://localhost:8080/"
        }
      },
      "execution_count": 40,
      "outputs": [
        {
          "output_type": "stream",
          "name": "stdout",
          "text": [
            "5\n"
          ]
        }
      ]
    },
    {
      "cell_type": "code",
      "source": [
        "#modulus operations\n",
        "print(17%3)"
      ],
      "metadata": {
        "id": "D2NRMhOP-Wn4",
        "outputId": "51235a88-4dfc-4386-90e8-a63c296ebec7",
        "colab": {
          "base_uri": "https://localhost:8080/"
        }
      },
      "execution_count": 41,
      "outputs": [
        {
          "output_type": "stream",
          "name": "stdout",
          "text": [
            "2\n"
          ]
        }
      ]
    },
    {
      "cell_type": "markdown",
      "source": [],
      "metadata": {
        "id": "D-Jixy-V-mY1"
      }
    },
    {
      "cell_type": "code",
      "source": [
        "#exponantion\n",
        "print(2 ** 4)"
      ],
      "metadata": {
        "id": "HeC9g-CB-eiq",
        "outputId": "23bbda57-0f3e-47c1-9327-209b559c12e3",
        "colab": {
          "base_uri": "https://localhost:8080/"
        }
      },
      "execution_count": 43,
      "outputs": [
        {
          "output_type": "stream",
          "name": "stdout",
          "text": [
            "16\n"
          ]
        }
      ]
    },
    {
      "cell_type": "code",
      "source": [
        "#absolute value\n",
        "print(abs(4-9))"
      ],
      "metadata": {
        "id": "S3uMDvuF-yla",
        "outputId": "2ab020b8-d464-42aa-fc58-c16403e21d99",
        "colab": {
          "base_uri": "https://localhost:8080/"
        }
      },
      "execution_count": 44,
      "outputs": [
        {
          "output_type": "stream",
          "name": "stdout",
          "text": [
            "5\n"
          ]
        }
      ]
    },
    {
      "cell_type": "code",
      "source": [
        "print(round(3.7))"
      ],
      "metadata": {
        "id": "3zbLGDAY_Ps0",
        "outputId": "1c81a1bb-2c7e-4053-c18a-568f0197621b",
        "colab": {
          "base_uri": "https://localhost:8080/"
        }
      },
      "execution_count": 45,
      "outputs": [
        {
          "output_type": "stream",
          "name": "stdout",
          "text": [
            "4\n"
          ]
        }
      ]
    }
  ]
}